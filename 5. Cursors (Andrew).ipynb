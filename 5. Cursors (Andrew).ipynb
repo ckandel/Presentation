{
 "cells": [
  {
   "cell_type": "markdown",
   "metadata": {},
   "source": [
    "# Cursors\n",
    "* 3 types; allow you to search, append, and alter data in a table, feature class, etc.\n",
    "* Old cursors still exist, but da module has more options and is faster"
   ]
  },
  {
   "cell_type": "markdown",
   "metadata": {},
   "source": [
    "## Search Cursor\n",
    "* Read-only access to a table. You can only see the data, but cannot alter it\n",
    "* Great for reviewing data or extracting it into new data structures prior to updating it"
   ]
  },
  {
   "cell_type": "markdown",
   "metadata": {},
   "source": [
    "#### Let's open a table in Pro to compare results from Python"
   ]
  },
  {
   "cell_type": "code",
   "execution_count": null,
   "metadata": {},
   "outputs": [],
   "source": [
    "import os\n",
    "from arcpy.da import SearchCursor\n",
    "\n",
    "# Set the path to your data\n",
    "cat_table = os.path.join(os.getcwd(), \"data\\\\demo.gdb\\\\Redlands_Cat_Sightings\")\n",
    "print(cat_table)\n",
    "\n",
    "# Run the cursor to print the data\n",
    "sc = SearchCursor(cat_table, \"*\")\n",
    "\n",
    "print(type(sc))\n",
    "print(sc.fields)\n",
    "\n",
    "for row in sc:\n",
    "    print(row)\n",
    "del sc\n",
    "\n",
    "# screenshot!!"
   ]
  },
  {
   "cell_type": "markdown",
   "metadata": {},
   "source": [
    "#### Add a SQL Query and be sure to use the \"with\" statement when opening a file"
   ]
  },
  {
   "cell_type": "code",
   "execution_count": null,
   "metadata": {},
   "outputs": [],
   "source": [
    "sql_query = \"TYPE = 'Sabertooth Tiger'\"\n",
    "with SearchCursor(cat_table, \"*\", sql_query) as table_data:\n",
    "    for row in table_data:\n",
    "        print(row)\n",
    "        \n",
    "# you can still get a lock on files using \"with\"\n",
    "# Include cursors in a function (optional)"
   ]
  },
  {
   "cell_type": "markdown",
   "metadata": {},
   "source": [
    "***"
   ]
  },
  {
   "cell_type": "markdown",
   "metadata": {},
   "source": [
    "## Comprehensions in Cursors"
   ]
  },
  {
   "cell_type": "code",
   "execution_count": null,
   "metadata": {},
   "outputs": [],
   "source": [
    "with SearchCursor(cat_table, \"type\") as table_data:\n",
    "    cat_types = [row[0] for row in table_data]\n",
    "cat_types"
   ]
  },
  {
   "cell_type": "code",
   "execution_count": null,
   "metadata": {},
   "outputs": [],
   "source": [
    "with SearchCursor(cat_table, [\"type\", \"size\"]) as table_data:\n",
    "    cat_sizes = {row[0]: row[1] for row in table_data}\n",
    "cat_sizes"
   ]
  },
  {
   "cell_type": "markdown",
   "metadata": {
    "collapsed": true
   },
   "source": [
    "***"
   ]
  },
  {
   "cell_type": "markdown",
   "metadata": {},
   "source": [
    "## Insert Cursor\n",
    "* Write access to a table; allows you to append rows to a table"
   ]
  },
  {
   "cell_type": "code",
   "execution_count": null,
   "metadata": {},
   "outputs": [],
   "source": [
    "from arcpy.da import InsertCursor\n",
    "\n",
    "new_rows = [\n",
    "    (None, (-13045960.543499999, 4036405.2462000027), 'Hairless', 1, 0),\n",
    "    (None, (-13045952.4474, 4036413.342299998), 'Raccoon', 4, 0)\n",
    "]\n",
    "\n",
    "with InsertCursor(cat_table, \"*\") as table_data:\n",
    "    for row in new_rows:\n",
    "        table_data.insertRow(row)"
   ]
  },
  {
   "cell_type": "code",
   "execution_count": null,
   "metadata": {},
   "outputs": [],
   "source": [
    "with SearchCursor(cat_table, \"*\") as table_data:\n",
    "    for row in table_data:\n",
    "        print(row)"
   ]
  },
  {
   "cell_type": "markdown",
   "metadata": {},
   "source": [
    "***"
   ]
  },
  {
   "cell_type": "markdown",
   "metadata": {},
   "source": [
    "## Update Cursor\n",
    "* Write access to a table; allows you to alter existing data"
   ]
  },
  {
   "cell_type": "code",
   "execution_count": null,
   "metadata": {},
   "outputs": [],
   "source": [
    "from arcpy.da import UpdateCursor\n",
    "\n",
    "sql_query = \"TYPE = 'Raccoon' OR TYPE = 'Hairless'\"\n",
    "with UpdateCursor(cat_table, \"*\", sql_query) as table_data:\n",
    "    for row in table_data:\n",
    "        table_data.deleteRow()  # takes no argument(s)"
   ]
  },
  {
   "cell_type": "code",
   "execution_count": null,
   "metadata": {},
   "outputs": [],
   "source": [
    "with SearchCursor(cat_table, \"*\") as table_data:\n",
    "    for row in table_data:\n",
    "        print(row)"
   ]
  },
  {
   "cell_type": "markdown",
   "metadata": {
    "collapsed": true
   },
   "source": [
    "***\n",
    "## Helpful Links\n",
    "\n",
    "#### Cursors\n",
    "http://pro.arcgis.com/en/pro-app/arcpy/get-started/data-access-using-cursors.htm\n",
    "\n",
    "#### Building SQL Expressions\n",
    "http://pro.arcgis.com/en/pro-app/help/mapping/navigation/sql-reference-for-elements-used-in-query-expressions.htm\n",
    "\n"
   ]
  }
 ],
 "metadata": {
  "kernelspec": {
   "display_name": "Python 3",
   "language": "python",
   "name": "python3"
  },
  "language_info": {
   "codemirror_mode": {
    "name": "ipython",
    "version": 3
   },
   "file_extension": ".py",
   "mimetype": "text/x-python",
   "name": "python",
   "nbconvert_exporter": "python",
   "pygments_lexer": "ipython3",
   "version": "3.6.5"
  }
 },
 "nbformat": 4,
 "nbformat_minor": 2
}
