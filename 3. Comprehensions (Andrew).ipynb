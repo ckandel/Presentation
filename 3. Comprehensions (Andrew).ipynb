{
 "cells": [
  {
   "cell_type": "markdown",
   "metadata": {},
   "source": [
    "## List Comprehensions\n",
    "Achieve brevity and speed when you can afford to not use a function\n",
    "#### Builds a data structure using an iterable with the following syntax:\n",
    "    1. Output expression\n",
    "    2. Variable representing members of the input sequence\n",
    "    3. Input sequence (iterable object)\n",
    "    4. (Optional) Predicate expression\n",
    "    \n",
    "![Basics](https://raw.githubusercontent.com/DrewOrtego/PythonAdvancedTopics2018/master/img/listComprehensions_2.gif)"
   ]
  },
  {
   "cell_type": "code",
   "execution_count": null,
   "metadata": {},
   "outputs": [],
   "source": [
    "values = [1, 2, 3, 4, 5]\n",
    "squares = [v**2 for v in values]\n",
    "squares"
   ]
  },
  {
   "cell_type": "markdown",
   "metadata": {},
   "source": [
    "#### Include an optional predicate (if-statement) for saving only specific values\n",
    "![Predicate](https://raw.githubusercontent.com/DrewOrtego/PythonAdvancedTopics2018/master/img/listComprehensions_1.gif)"
   ]
  },
  {
   "cell_type": "code",
   "execution_count": null,
   "metadata": {},
   "outputs": [],
   "source": [
    "even_squares = [v**2 for v in values if v%2==0]\n",
    "even_squares"
   ]
  },
  {
   "cell_type": "markdown",
   "metadata": {},
   "source": [
    "***"
   ]
  },
  {
   "cell_type": "markdown",
   "metadata": {},
   "source": [
    "## Set Comprehension"
   ]
  },
  {
   "cell_type": "markdown",
   "metadata": {},
   "source": [
    "#### Use a set to obtain unique values in a data structure"
   ]
  },
  {
   "cell_type": "code",
   "execution_count": null,
   "metadata": {},
   "outputs": [],
   "source": [
    "my_set = {i for i in [1, 2, 2, 3, 3, 3, 4, 4, 4, 4, 5, 5, 5, 5]}\n",
    "my_set"
   ]
  },
  {
   "cell_type": "markdown",
   "metadata": {},
   "source": [
    "#### Convert the set to a list for more usefulness"
   ]
  },
  {
   "cell_type": "code",
   "execution_count": null,
   "metadata": {},
   "outputs": [],
   "source": [
    "list(my_set)"
   ]
  },
  {
   "cell_type": "markdown",
   "metadata": {},
   "source": [
    "***"
   ]
  },
  {
   "cell_type": "markdown",
   "metadata": {},
   "source": [
    "## Dictionary Comprehensions"
   ]
  },
  {
   "cell_type": "markdown",
   "metadata": {},
   "source": [
    "#### Note the use of a string instead of a list; any iterable can be interated-over in a comprehension"
   ]
  },
  {
   "cell_type": "code",
   "execution_count": null,
   "metadata": {},
   "outputs": [],
   "source": [
    "import os\n",
    "\n",
    "import arcpy\n",
    "\n",
    "cat_table = os.path.join(os.getcwd(), \"data\\\\demo.gdb\\\\Redlands_Cat_Sightings\")\n",
    "fields = {f.name: f.type for f in arcpy.ListFields(cat_table)}\n",
    "\n",
    "fields"
   ]
  },
  {
   "cell_type": "markdown",
   "metadata": {},
   "source": [
    "***"
   ]
  },
  {
   "cell_type": "markdown",
   "metadata": {
    "collapsed": true
   },
   "source": [
    "## Helpful Links\n",
    "\n",
    "#### Visualizing Comprehensions\n",
    "http://treyhunner.com/2015/12/python-list-comprehensions-now-in-color/\n",
    "\n",
    "#### In-depth Explainations of Comprehensions\n",
    "http://python-3-patterns-idioms-test.readthedocs.io/en/latest/Comprehensions.html\n",
    "\n",
    "#### ArcPy ListFields\n",
    "https://pro.arcgis.com/en/pro-app/arcpy/functions/listfields.htm"
   ]
  },
  {
   "cell_type": "markdown",
   "metadata": {},
   "source": [
    "***"
   ]
  }
 ],
 "metadata": {
  "kernelspec": {
   "display_name": "Python 3",
   "language": "python",
   "name": "python3"
  },
  "language_info": {
   "codemirror_mode": {
    "name": "ipython",
    "version": 3
   },
   "file_extension": ".py",
   "mimetype": "text/x-python",
   "name": "python",
   "nbconvert_exporter": "python",
   "pygments_lexer": "ipython3",
   "version": "3.6.5"
  }
 },
 "nbformat": 4,
 "nbformat_minor": 2
}
